{
  "nbformat": 4,
  "nbformat_minor": 0,
  "metadata": {
    "colab": {
      "provenance": []
    },
    "kernelspec": {
      "name": "python3",
      "display_name": "Python 3"
    },
    "language_info": {
      "name": "python"
    }
  },
  "cells": [
    {
      "cell_type": "code",
      "execution_count": 1,
      "metadata": {
        "colab": {
          "base_uri": "https://localhost:8080/"
        },
        "id": "xDuVwcmndXsg",
        "outputId": "998738cf-5534-43dd-c453-86de0b6d9c6d"
      },
      "outputs": [
        {
          "output_type": "stream",
          "name": "stdout",
          "text": [
            "Mounted at /content/drive\n"
          ]
        }
      ],
      "source": [
        "from google.colab import drive\n",
        "drive.mount('/content/drive')"
      ]
    },
    {
      "cell_type": "code",
      "source": [
        "!pip install -q keras\n",
        "from keras import applications\n",
        "from keras.preprocessing.image import ImageDataGenerator\n",
        "from keras import optimizers\n",
        "from keras.models import Sequential\n",
        "from keras.layers import Dropout, Flatten, Dense, GlobalAveragePooling2D\n",
        "from keras.models import Model\n",
        "from keras.optimizers import Adam"
      ],
      "metadata": {
        "id": "HuXuoUoqdf7g"
      },
      "execution_count": 2,
      "outputs": []
    },
    {
      "cell_type": "code",
      "source": [
        "!pip install pydicom\n",
        "!pip install scikit-image\n",
        "import pydicom\n",
        "import cv2\n",
        "import skimage\n",
        "import numpy as np\n",
        "import matplotlib.pyplot as plt\n",
        "from scipy import misc,ndimage\n",
        "import os"
      ],
      "metadata": {
        "colab": {
          "base_uri": "https://localhost:8080/"
        },
        "id": "zXrERBw3UOee",
        "outputId": "6ab8988e-d26c-4eda-a331-f0a4ab8dba11"
      },
      "execution_count": 3,
      "outputs": [
        {
          "output_type": "stream",
          "name": "stdout",
          "text": [
            "Collecting pydicom\n",
            "  Downloading pydicom-2.4.2-py3-none-any.whl (1.8 MB)\n",
            "\u001b[2K     \u001b[90m━━━━━━━━━━━━━━━━━━━━━━━━━━━━━━━━━━━━━━━━\u001b[0m \u001b[32m1.8/1.8 MB\u001b[0m \u001b[31m8.2 MB/s\u001b[0m eta \u001b[36m0:00:00\u001b[0m\n",
            "\u001b[?25hInstalling collected packages: pydicom\n",
            "Successfully installed pydicom-2.4.2\n",
            "Requirement already satisfied: scikit-image in /usr/local/lib/python3.10/dist-packages (0.19.3)\n",
            "Requirement already satisfied: numpy>=1.17.0 in /usr/local/lib/python3.10/dist-packages (from scikit-image) (1.22.4)\n",
            "Requirement already satisfied: scipy>=1.4.1 in /usr/local/lib/python3.10/dist-packages (from scikit-image) (1.10.1)\n",
            "Requirement already satisfied: networkx>=2.2 in /usr/local/lib/python3.10/dist-packages (from scikit-image) (3.1)\n",
            "Requirement already satisfied: pillow!=7.1.0,!=7.1.1,!=8.3.0,>=6.1.0 in /usr/local/lib/python3.10/dist-packages (from scikit-image) (9.4.0)\n",
            "Requirement already satisfied: imageio>=2.4.1 in /usr/local/lib/python3.10/dist-packages (from scikit-image) (2.25.1)\n",
            "Requirement already satisfied: tifffile>=2019.7.26 in /usr/local/lib/python3.10/dist-packages (from scikit-image) (2023.7.18)\n",
            "Requirement already satisfied: PyWavelets>=1.1.1 in /usr/local/lib/python3.10/dist-packages (from scikit-image) (1.4.1)\n",
            "Requirement already satisfied: packaging>=20.0 in /usr/local/lib/python3.10/dist-packages (from scikit-image) (23.1)\n"
          ]
        }
      ]
    },
    {
      "cell_type": "code",
      "source": [
        "train_data_dir = '/content/drive/MyDrive/Brain Tumor Data/Train'\n",
        "validation_data_dir = '/content/drive/MyDrive/Brain Tumor Data/Validation'"
      ],
      "metadata": {
        "id": "BVCVObtHdiCK"
      },
      "execution_count": 4,
      "outputs": []
    },
    {
      "cell_type": "code",
      "source": [
        "img_width, img_height = 299, 299\n",
        "train_samples, validation_samples, epochs, batch_size = 98, 14, 20, 5"
      ],
      "metadata": {
        "id": "qYY8mGWcdlJD"
      },
      "execution_count": 5,
      "outputs": []
    },
    {
      "cell_type": "code",
      "source": [
        "# 1st Augmentation: Normalize the data\n",
        "# 2nd Augmentation: Set a shear range, zoom range, rotation range, width/height range to 0.2\n",
        "# 3rd Augmentation: Flip images horiztonally\n",
        "train_datagen = ImageDataGenerator(\n",
        "    rescale = 1./255,\n",
        "    shear_range = 0.2,\n",
        "    zoom_range = 0.2,\n",
        "    rotation_range = 20,\n",
        "    width_shift_range = 0.2,\n",
        "    height_shift_range = 0.2,\n",
        "    horizontal_flip = True\n",
        ")\n",
        "\n",
        "# Normalize the data\n",
        "val_datagen = ImageDataGenerator(\n",
        "    rescale = 1./255\n",
        ")\n",
        "\n",
        "# Load data and perform augmentation\n",
        "train_generator = train_datagen.flow_from_directory(\n",
        "    train_data_dir,\n",
        "    target_size = (img_height, img_width),\n",
        "    batch_size = batch_size,\n",
        "    class_mode = 'binary'\n",
        ")\n",
        "\n",
        "validation_generator = val_datagen.flow_from_directory(\n",
        "    validation_data_dir,\n",
        "    target_size = (img_height, img_width),\n",
        "    batch_size = batch_size,\n",
        "    class_mode = 'binary'\n",
        ")"
      ],
      "metadata": {
        "colab": {
          "base_uri": "https://localhost:8080/"
        },
        "id": "nqwcMrBXdoXx",
        "outputId": "1096c7a9-8ae9-4695-8a98-2e875aea273f"
      },
      "execution_count": 6,
      "outputs": [
        {
          "output_type": "stream",
          "name": "stdout",
          "text": [
            "Found 98 images belonging to 2 classes.\n",
            "Found 14 images belonging to 2 classes.\n"
          ]
        }
      ]
    },
    {
      "cell_type": "code",
      "source": [
        "# Built the neural network\n",
        "base_model = applications.InceptionV3(weights='imagenet', include_top=False, input_shape=(img_width, img_height, 3))\n",
        "\n",
        "model_top = Sequential()\n",
        "model_top.add(GlobalAveragePooling2D(input_shape=base_model.output_shape[1:], data_format=None)),\n",
        "model_top.add(Dense(256, activation='relu'))\n",
        "model_top.add(Dropout(0.5))\n",
        "model_top.add(Dense(1, activation='sigmoid'))\n",
        "\n",
        "model = Model(inputs=base_model.input, outputs=model_top(base_model.output))\n",
        "\n",
        "model.compile(optimizer=Adam(learning_rate=0.00003, beta_1=0.9, beta_2=0.999, epsilon=1e-08,decay=0.0), loss='binary_crossentropy', metrics=['accuracy'])"
      ],
      "metadata": {
        "id": "g4WlzZqLdttS",
        "colab": {
          "base_uri": "https://localhost:8080/"
        },
        "outputId": "81a6d4a4-71fa-4c99-f46a-e76712163e7a"
      },
      "execution_count": 7,
      "outputs": [
        {
          "output_type": "stream",
          "name": "stdout",
          "text": [
            "Downloading data from https://storage.googleapis.com/tensorflow/keras-applications/inception_v3/inception_v3_weights_tf_dim_ordering_tf_kernels_notop.h5\n",
            "87910968/87910968 [==============================] - 1s 0us/step\n"
          ]
        }
      ]
    },
    {
      "cell_type": "code",
      "source": [
        "# Train the model\n",
        "history = model.fit_generator(\n",
        "    train_generator,\n",
        "    steps_per_epoch = train_samples / batch_size,\n",
        "    epochs = epochs,\n",
        "    verbose = 1,\n",
        "    validation_data = validation_generator,\n",
        "    validation_steps = validation_samples / batch_size\n",
        ")"
      ],
      "metadata": {
        "colab": {
          "base_uri": "https://localhost:8080/"
        },
        "id": "6M3C5uZXhqd-",
        "outputId": "54a1a461-04f2-4616-d4b4-738d3b51358f"
      },
      "execution_count": 8,
      "outputs": [
        {
          "output_type": "stream",
          "name": "stderr",
          "text": [
            "<ipython-input-8-34d2b882f441>:2: UserWarning: `Model.fit_generator` is deprecated and will be removed in a future version. Please use `Model.fit`, which supports generators.\n",
            "  history = model.fit_generator(\n"
          ]
        },
        {
          "output_type": "stream",
          "name": "stdout",
          "text": [
            "Epoch 1/20\n",
            "19/19 [==============================] - 135s 6s/step - loss: 0.6322 - accuracy: 0.6633 - val_loss: 0.5574 - val_accuracy: 0.7143\n",
            "Epoch 2/20\n",
            "19/19 [==============================] - 104s 5s/step - loss: 0.3005 - accuracy: 0.9490 - val_loss: 0.4264 - val_accuracy: 1.0000\n",
            "Epoch 3/20\n",
            "19/19 [==============================] - 107s 5s/step - loss: 0.2069 - accuracy: 0.9592 - val_loss: 0.3079 - val_accuracy: 1.0000\n",
            "Epoch 4/20\n",
            "19/19 [==============================] - 111s 6s/step - loss: 0.2509 - accuracy: 0.9184 - val_loss: 0.2139 - val_accuracy: 1.0000\n",
            "Epoch 5/20\n",
            "19/19 [==============================] - 107s 5s/step - loss: 0.1698 - accuracy: 0.9286 - val_loss: 0.1229 - val_accuracy: 1.0000\n",
            "Epoch 6/20\n",
            "19/19 [==============================] - 107s 6s/step - loss: 0.1740 - accuracy: 0.9388 - val_loss: 0.0972 - val_accuracy: 1.0000\n",
            "Epoch 7/20\n",
            "19/19 [==============================] - 107s 6s/step - loss: 0.1057 - accuracy: 0.9694 - val_loss: 0.0818 - val_accuracy: 1.0000\n",
            "Epoch 8/20\n",
            "19/19 [==============================] - 107s 5s/step - loss: 0.1770 - accuracy: 0.9388 - val_loss: 0.0592 - val_accuracy: 1.0000\n",
            "Epoch 9/20\n",
            "19/19 [==============================] - 106s 5s/step - loss: 0.0739 - accuracy: 1.0000 - val_loss: 0.0497 - val_accuracy: 1.0000\n",
            "Epoch 10/20\n",
            "19/19 [==============================] - 107s 6s/step - loss: 0.0475 - accuracy: 0.9796 - val_loss: 0.0348 - val_accuracy: 1.0000\n",
            "Epoch 11/20\n",
            "19/19 [==============================] - 107s 5s/step - loss: 0.0505 - accuracy: 0.9796 - val_loss: 0.0268 - val_accuracy: 1.0000\n",
            "Epoch 12/20\n",
            "19/19 [==============================] - 107s 5s/step - loss: 0.0413 - accuracy: 1.0000 - val_loss: 0.0203 - val_accuracy: 1.0000\n",
            "Epoch 13/20\n",
            "19/19 [==============================] - 106s 5s/step - loss: 0.1200 - accuracy: 0.9694 - val_loss: 0.0288 - val_accuracy: 1.0000\n",
            "Epoch 14/20\n",
            "19/19 [==============================] - 103s 5s/step - loss: 0.0708 - accuracy: 0.9796 - val_loss: 0.0499 - val_accuracy: 1.0000\n",
            "Epoch 15/20\n",
            "19/19 [==============================] - 101s 5s/step - loss: 0.0409 - accuracy: 0.9796 - val_loss: 0.0314 - val_accuracy: 1.0000\n",
            "Epoch 16/20\n",
            "19/19 [==============================] - 101s 5s/step - loss: 0.1512 - accuracy: 0.9388 - val_loss: 0.0124 - val_accuracy: 1.0000\n",
            "Epoch 17/20\n",
            "19/19 [==============================] - 102s 5s/step - loss: 0.1119 - accuracy: 0.9694 - val_loss: 0.0112 - val_accuracy: 1.0000\n",
            "Epoch 18/20\n",
            "19/19 [==============================] - 102s 5s/step - loss: 0.1017 - accuracy: 0.9796 - val_loss: 0.0157 - val_accuracy: 1.0000\n",
            "Epoch 19/20\n",
            "19/19 [==============================] - 102s 5s/step - loss: 0.1257 - accuracy: 0.9592 - val_loss: 0.0497 - val_accuracy: 1.0000\n",
            "Epoch 20/20\n",
            "19/19 [==============================] - 102s 5s/step - loss: 0.0632 - accuracy: 0.9796 - val_loss: 0.0258 - val_accuracy: 1.0000\n"
          ]
        }
      ]
    },
    {
      "cell_type": "code",
      "source": [
        "import pandas as pd\n",
        "\n",
        "# Plot the training accuracy, training loss, validation accuracy, and validation loss\n",
        "plt.figure()\n",
        "plt.plot(history.history['accuracy'], color = 'orange', label = 'training acc')\n",
        "plt.plot(history.history['loss'], color = 'blue', label = 'training loss')\n",
        "plt.plot(history.history['val_accuracy'], color = 'green', label = 'val acc')\n",
        "plt.plot(history.history['val_loss'], color = 'red', label = 'val loss')\n",
        "plt.legend()\n",
        "plt.show()\n",
        "\n",
        "# Save the results to Google Drive\n",
        "RESULT_DIR = '/content/drive/MyDrive/Brain Tumor Data'\n",
        "save_name = 'history-TumorClassification.png'\n",
        "plt.savefig(os.path.join(RESULT_DIR,save_name))\n",
        "\n",
        "hist_df = pd.DataFrame(history.history)\n",
        "hist_csv_file = os.path.join(RESULT_DIR,'history_1.csv')\n",
        "with open(hist_csv_file, mode='w') as f:\n",
        "    hist_df.to_csv(f)"
      ],
      "metadata": {
        "id": "w6hYX25jdyhx",
        "colab": {
          "base_uri": "https://localhost:8080/",
          "height": 447
        },
        "outputId": "e497fa1f-4301-450a-86e3-194a1848e54b"
      },
      "execution_count": 9,
      "outputs": [
        {
          "output_type": "display_data",
          "data": {
            "text/plain": [
              "<Figure size 640x480 with 1 Axes>"
            ],
            "image/png": "[encoded data removed]"
          },
          "metadata": {}
        },
        {
          "output_type": "display_data",
          "data": {
            "text/plain": [
              "<Figure size 640x480 with 0 Axes>"
            ]
          },
          "metadata": {}
        }
      ]
    },
    {
      "cell_type": "code",
      "source": [
        "from PIL import Image\n",
        "from numpy import asarray\n",
        "\n",
        "test_data_dir = '/content/drive/MyDrive/Brain Tumor Data/Test'\n",
        "\n",
        "right = 0\n",
        "wrong = 0\n",
        "\n",
        "for image in os.listdir(test_data_dir):\n",
        "  print(image)\n",
        "  if (image.endswith(\"jpg\")):\n",
        "    # Read image, reduce noise, resize\n",
        "    img = cv2.imread(os.path.join(test_data_dir,image))\n",
        "    img = cv2.resize(img, (img_width, img_height))\n",
        "    img = np.asarray(img)\n",
        "    # Print image and prediction\n",
        "    x = np.expand_dims(img, axis=0) * 1./255\n",
        "    score = model.predict(x)\n",
        "    print('Predicted:', score, 'Cancer' if score < 0.5 else 'Not Cancer')\n",
        "    print()\n",
        "    if ((score < 0.5 and img[0:1] == 'N') or (score >= 0.5 and img[0:1] == 'C')):\n",
        "      wrong += 1\n",
        "    else:\n",
        "      right += 1"
      ],
      "metadata": {
        "colab": {
          "base_uri": "https://localhost:8080/"
        },
        "id": "wLE0AHh6ZgJN",
        "outputId": "7db835fb-cfa7-4265-a81f-42158c88a9df"
      },
      "execution_count": 10,
      "outputs": [
        {
          "output_type": "stream",
          "name": "stdout",
          "text": [
            "Cancer (517).jpg\n",
            "1/1 [==============================] - 2s 2s/step\n",
            "Predicted: [[0.1276791]] Cancer\n",
            "\n",
            "Cancer (519).jpg\n"
          ]
        },
        {
          "output_type": "stream",
          "name": "stderr",
          "text": [
            "<ipython-input-10-31dc48d91a80>:21: FutureWarning: elementwise comparison failed; returning scalar instead, but in the future will perform elementwise comparison\n",
            "  if ((score < 0.5 and img[0:1] == 'N') or (score >= 0.5 and img[0:1] == 'C')):\n"
          ]
        },
        {
          "output_type": "stream",
          "name": "stdout",
          "text": [
            "1/1 [==============================] - 0s 229ms/step\n",
            "Predicted: [[0.00707594]] Cancer\n",
            "\n",
            "Cancer (518).jpg\n",
            "1/1 [==============================] - 0s 227ms/step\n",
            "Predicted: [[0.0034466]] Cancer\n",
            "\n",
            "Cancer (520).jpg\n",
            "1/1 [==============================] - 0s 232ms/step\n",
            "Predicted: [[0.00678534]] Cancer\n",
            "\n",
            "Cancer (524).jpg\n",
            "1/1 [==============================] - 0s 228ms/step\n",
            "Predicted: [[0.00384574]] Cancer\n",
            "\n",
            "Cancer (522).jpg\n",
            "1/1 [==============================] - 0s 259ms/step\n",
            "Predicted: [[0.00012494]] Cancer\n",
            "\n",
            "Cancer (516).jpg\n",
            "1/1 [==============================] - 0s 250ms/step\n",
            "Predicted: [[0.00053549]] Cancer\n",
            "\n",
            "Cancer (521).jpg\n",
            "1/1 [==============================] - 0s 236ms/step\n",
            "Predicted: [[0.00130702]] Cancer\n",
            "\n",
            "Cancer (523).jpg\n",
            "1/1 [==============================] - 0s 233ms/step\n",
            "Predicted: [[0.00163336]] Cancer\n",
            "\n",
            "Cancer (515).jpg\n",
            "1/1 [==============================] - 0s 229ms/step\n",
            "Predicted: [[0.00270803]] Cancer\n",
            "\n",
            "Cancer (610).jpg\n",
            "1/1 [==============================] - 0s 249ms/step\n",
            "Predicted: [[0.31892335]] Cancer\n",
            "\n",
            "Not Cancer  (1).jpg\n",
            "1/1 [==============================] - 0s 235ms/step\n",
            "Predicted: [[0.54630625]] Not Cancer\n",
            "\n",
            "Cancer (612).jpg\n",
            "1/1 [==============================] - 0s 236ms/step\n",
            "Predicted: [[0.28093702]] Cancer\n",
            "\n",
            "Cancer (613).jpg\n",
            "1/1 [==============================] - 0s 234ms/step\n",
            "Predicted: [[0.00346434]] Cancer\n",
            "\n",
            "Cancer (609).jpg\n",
            "1/1 [==============================] - 0s 231ms/step\n",
            "Predicted: [[0.15349178]] Cancer\n",
            "\n",
            "Cancer (611).jpg\n",
            "1/1 [==============================] - 0s 436ms/step\n",
            "Predicted: [[0.38075176]] Cancer\n",
            "\n",
            "Not Cancer  (410).jpg\n",
            "1/1 [==============================] - 0s 430ms/step\n",
            "Predicted: [[0.9758215]] Not Cancer\n",
            "\n",
            "Not Cancer  (4).jpg\n",
            "1/1 [==============================] - 0s 467ms/step\n",
            "Predicted: [[0.9798276]] Not Cancer\n",
            "\n",
            "Not Cancer  (407).jpg\n",
            "1/1 [==============================] - 0s 409ms/step\n",
            "Predicted: [[0.97739786]] Not Cancer\n",
            "\n",
            "Not Cancer  (408).jpg\n",
            "1/1 [==============================] - 0s 238ms/step\n",
            "Predicted: [[0.9989648]] Not Cancer\n",
            "\n",
            "Not Cancer  (434).jpg\n",
            "1/1 [==============================] - 0s 234ms/step\n",
            "Predicted: [[0.9837997]] Not Cancer\n",
            "\n",
            "Not Cancer  (3).jpg\n",
            "1/1 [==============================] - 0s 240ms/step\n",
            "Predicted: [[0.98117894]] Not Cancer\n",
            "\n",
            "Not Cancer  (436).jpg\n",
            "1/1 [==============================] - 0s 238ms/step\n",
            "Predicted: [[0.99510884]] Not Cancer\n",
            "\n",
            "Not Cancer  (409).jpg\n",
            "1/1 [==============================] - 0s 234ms/step\n",
            "Predicted: [[0.980132]] Not Cancer\n",
            "\n",
            "Not Cancer  (2).jpg\n",
            "1/1 [==============================] - 0s 229ms/step\n",
            "Predicted: [[0.8791323]] Not Cancer\n",
            "\n",
            "Not Cancer  (406).jpg\n",
            "1/1 [==============================] - 0s 234ms/step\n",
            "Predicted: [[0.99822795]] Not Cancer\n",
            "\n",
            "Not Cancer  (600).jpg\n",
            "1/1 [==============================] - 0s 234ms/step\n",
            "Predicted: [[0.95993465]] Not Cancer\n",
            "\n",
            "Not Cancer  (599).jpg\n",
            "1/1 [==============================] - 0s 238ms/step\n",
            "Predicted: [[0.9456553]] Not Cancer\n",
            "\n",
            "Not Cancer  (598).jpg\n",
            "1/1 [==============================] - 0s 232ms/step\n",
            "Predicted: [[0.99881387]] Not Cancer\n",
            "\n"
          ]
        }
      ]
    },
    {
      "cell_type": "code",
      "source": [
        "# Creating a bar chart to display the model's accuracy on test data\n",
        "possibilities = [\"Correct\", \"Incorrect\"]\n",
        "values = [right, wrong]\n",
        "plt.bar(possibilities, values, color ='maroon', width = 0.4)\n",
        "plt.xlabel(\"Types of Prediction\")\n",
        "plt.ylabel(\"No. of Each Type of Prediction\")\n",
        "plt.title(\"Trained Model Tumor Classification\")\n",
        "\n",
        "print(\"% of Correct Predictions:\", (right/(right+wrong)*100))"
      ],
      "metadata": {
        "colab": {
          "base_uri": "https://localhost:8080/",
          "height": 489
        },
        "id": "e4TI2tqvIkvn",
        "outputId": "748db8f4-d452-4c89-b142-e15a56179e47"
      },
      "execution_count": 11,
      "outputs": [
        {
          "output_type": "stream",
          "name": "stdout",
          "text": [
            "% of Correct Predictions: 100.0\n"
          ]
        },
        {
          "output_type": "display_data",
          "data": {
            "text/plain": [
              "<Figure size 640x480 with 1 Axes>"
            ],
            "image/png": "[encoded data removed]"
          },
          "metadata": {}
        }
      ]
    }
  ]
}